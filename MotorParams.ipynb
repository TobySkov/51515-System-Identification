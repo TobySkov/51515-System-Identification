{
 "cells": [
  {
   "attachments": {},
   "cell_type": "markdown",
   "metadata": {},
   "source": [
    "# 51515 Medium Angular Motors System Identification\n",
    "\n",
    "The following notebook handles with system identification of the 51515, Lego Mindstorm, Robot Inventor, Medium Angular Motors.\n",
    "\n",
    "#### Scope\n",
    "\n",
    "The motivation behind this notebook is to understand the relationship between the applied [duty cycle](https://docs.pybricks.com/en/latest/pupdevices/motor.html#pybricks.pupdevices.Motor.dc) through the [pybricks](https://pybricks.com/) firmware and the force applied to a idealized cart in the [idealized inverted pendulum robot model](https://ctms.engin.umich.edu/CTMS/index.php?example=InvertedPendulum&section=SystemModeling). "
   ]
  },
  {
   "attachments": {},
   "cell_type": "markdown",
   "metadata": {},
   "source": [
    "## Motor characteristics\n",
    "\n",
    "In order to establish the relationship between the applied [duty cycle](https://docs.pybricks.com/en/latest/pupdevices/motor.html#pybricks.pupdevices.Motor.dc) and the force applied to the idealized cart, the following motor characteristics is desired to be established and understood: \n",
    "\n",
    "* Internal resistance       ($R$)\n",
    "* Torque constant           ($k_t$)\n",
    "* Speed-torque curve\n",
    "* Static friction torque    ($\\tau_{fric}$)\n",
    "* Encoder accuracy and delay\n",
    "* Duty cycle and current relationship"
   ]
  },
  {
   "attachments": {},
   "cell_type": "markdown",
   "metadata": {},
   "source": [
    "#### Internal resistance\n",
    "\n",
    "As prensented in [University of Utah MEC lab excercise](https://my.mech.utah.edu/~me3200/labs/S04Labs/S04_MotorChar_L04.pdf), during steady state, the electrical equation of a DC motor simplifies to:\n",
    "\n",
    "\\begin{equation}\n",
    "V = I R + K_e \\omega \n",
    "\\end{equation}\n",
    "\n",
    "Combining this with [measured data](https://www.philohome.com/motors/motorcomp.htm) it is possible to use linear regression for estimating $K_e$ and $I$.\n",
    "\n"
   ]
  },
  {
   "cell_type": "code",
   "execution_count": 3,
   "metadata": {},
   "outputs": [
    {
     "name": "stdout",
     "output_type": "stream",
     "text": [
      "(6, 2)\n",
      "(6,)\n",
      "                                 OLS Regression Results                                \n",
      "=======================================================================================\n",
      "Dep. Variable:                      y   R-squared (uncentered):                   1.000\n",
      "Model:                            OLS   Adj. R-squared (uncentered):              1.000\n",
      "Method:                 Least Squares   F-statistic:                          2.152e+04\n",
      "Date:                Sat, 11 Feb 2023   Prob (F-statistic):                    8.64e-09\n",
      "Time:                        10:05:01   Log-Likelihood:                          6.3995\n",
      "No. Observations:                   6   AIC:                                     -8.799\n",
      "Df Residuals:                       4   BIC:                                     -9.215\n",
      "Df Model:                           2                                                  \n",
      "Covariance Type:            nonrobust                                                  \n",
      "==============================================================================\n",
      "                 coef    std err          t      P>|t|      [0.025      0.975]\n",
      "------------------------------------------------------------------------------\n",
      "x1            12.6609      0.318     39.803      0.000      11.778      13.544\n",
      "x2             0.3544      0.007     53.470      0.000       0.336       0.373\n",
      "==============================================================================\n",
      "Omnibus:                          nan   Durbin-Watson:                   3.485\n",
      "Prob(Omnibus):                    nan   Jarque-Bera (JB):                0.692\n",
      "Skew:                           0.108   Prob(JB):                        0.708\n",
      "Kurtosis:                       1.351   Cond. No.                         110.\n",
      "==============================================================================\n",
      "\n",
      "Notes:\n",
      "[1] R² is computed without centering (uncentered) since the model does not contain a constant.\n",
      "[2] Standard Errors assume that the covariance matrix of the errors is correctly specified.\n"
     ]
    },
    {
     "name": "stderr",
     "output_type": "stream",
     "text": [
      "c:\\repos\\51515-System-Identification\\51515-System-Identification\\.venv\\lib\\site-packages\\statsmodels\\stats\\stattools.py:74: ValueWarning: omni_normtest is not valid with less than 8 observations; 6 samples were given.\n",
      "  warn(\"omni_normtest is not valid with less than 8 observations; %i \"\n"
     ]
    }
   ],
   "source": [
    "import statsmodels.api as sm\n",
    "from conversions import rpm_to_rad_per_s\n",
    "import numpy as np\n",
    "\n",
    "omega = rpm_to_rad_per_s(rpm=np.array([24.0, 63.0, 105.0, 138.0, 180.0, 213.0])).reshape((6,1))\n",
    "\n",
    "I = np.array([0.29, 0.28, 0.29, 0.30, 0.31, 0.32]).reshape((6,1))\n",
    "V = np.array([4.5, 6.0, 7.5, 9.0, 10.5, 12.0])\n",
    "\n",
    "X = np.hstack((I, omega))\n",
    "\n",
    "y = V\n",
    "\n",
    "print(X.shape)\n",
    "print(y.shape)\n",
    "\n",
    "results = sm.OLS(y, X).fit()\n",
    "print(results.summary())\n",
    "\n",
    "\n",
    "\n"
   ]
  },
  {
   "attachments": {},
   "cell_type": "markdown",
   "metadata": {},
   "source": [
    "#### Intenal resistance\n",
    "\n",
    "As prensented in the video [Northwestern Robotics youtube](https://www.youtube.com/watch?v=pxtRlKs0pAg) and [BSc Thesis](https://www.diva-portal.org/smash/get/diva2:916184/FULLTEXT01.pdf), during steady state operation the DC motor curcuit can be modelled as:\n",
    "\n",
    "\\begin{equation}\n",
    "V = k_t \\omega + I R \n",
    "\\end{equation}\n",
    "\n",
    "This can be utilized for estimated the resistance in the motor, by running an test with duty cycle at zero, hence zero angular velocity, as follows:\n",
    "\n",
    "\n",
    "\n"
   ]
  },
  {
   "cell_type": "code",
   "execution_count": null,
   "metadata": {},
   "outputs": [],
   "source": [
    "from data import *\n",
    "\n",
    "# Loading and visualizing data:\n",
    "data = load_and_format_data(\"motor_test_04_02_2023__no1.txt\")\n",
    "visualize_data(data)\n",
    "\n",
    "# Select and verifying subset of data\n",
    "data = select_data_subset(data, [0,1950])\n",
    "visualize_data(data)\n",
    "\n",
    "# Estimating current and voltage\n",
    "I, V = estimate_average_voltage_and_current(data)\n",
    "print(f\"Estimated current: {np.round(I,3)} [mA];\\tEstimated voltage: {np.round(V,3)} [mV]\")\n",
    "print(f\"Used for calculating resistance: {np.round(V/I,3)}\")"
   ]
  },
  {
   "attachments": {},
   "cell_type": "markdown",
   "metadata": {},
   "source": [
    "#### Torque constant\n",
    "\n",
    "Given that the torque constant is defined as\n",
    "\n",
    "\\begin{equation}\n",
    "\\tau =  k_t I \\qquad \\Leftrightarrow \\qquad k_t = \\dfrac{\\tau}{I}\n",
    "\\end{equation}\n",
    "\n",
    "equation (1) can be rewritten as\n",
    "\n",
    "\\begin{equation}\n",
    "\\omega = \\dfrac{V}{k_t}  -  \\dfrac{R \\tau}{k_t^2}     \n",
    "\\end{equation}\n",
    "\n",
    "which can be used for plotting the speed-torque curve.\n"
   ]
  },
  {
   "attachments": {},
   "cell_type": "markdown",
   "metadata": {},
   "source": [
    "Using "
   ]
  },
  {
   "attachments": {},
   "cell_type": "markdown",
   "metadata": {},
   "source": [
    "Next steps:\n",
    "* Estimate R from measurements with duty_cycle = 0 %.\n",
    "* Estimtage the torque constant\n",
    "* Plot the speed-torque curve and compare to measurents from [Lego Motors Compared Characteristics](https://www.philohome.com/motors/motorcomp.htm).\n",
    "* Run experiments on different motors to see if they are the same.\n",
    "\n",
    "The Robot Inventor, Medium Angular Motors are equivalent to the Spike Prime Medium Angular Motors. The following references are good starting points\n",
    "\n",
    "* [Lego Offical Technical Specification](https://le-www-live-s.legocdn.com/sc/media/files/support/spike-prime/techspecs_technicmediumangularmotor-19684ffc443792280359ef217512a1d1.pdf)\n",
    "* [Lego Motors Compared Characteristics](https://www.philohome.com/motors/motorcomp.htm)"
   ]
  },
  {
   "cell_type": "code",
   "execution_count": null,
   "metadata": {},
   "outputs": [],
   "source": []
  },
  {
   "cell_type": "markdown",
   "metadata": {},
   "source": []
  },
  {
   "cell_type": "markdown",
   "metadata": {},
   "source": []
  }
 ],
 "metadata": {
  "kernelspec": {
   "display_name": ".venv",
   "language": "python",
   "name": "python3"
  },
  "language_info": {
   "codemirror_mode": {
    "name": "ipython",
    "version": 3
   },
   "file_extension": ".py",
   "mimetype": "text/x-python",
   "name": "python",
   "nbconvert_exporter": "python",
   "pygments_lexer": "ipython3",
   "version": "3.10.9"
  },
  "orig_nbformat": 4,
  "vscode": {
   "interpreter": {
    "hash": "5907efaa7e15db4666ede5e514e7cf31ca2226d47398f041cf064c08ab2231b8"
   }
  }
 },
 "nbformat": 4,
 "nbformat_minor": 2
}

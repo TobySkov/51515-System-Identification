{
 "cells": [
  {
   "attachments": {},
   "cell_type": "markdown",
   "metadata": {},
   "source": [
    "# 51515 Medium Angular Motors System Identification\n",
    "\n",
    "The following notebook handles with system identification of the 51515, Lego Mindstorm, Robot Inventor, Medium Angular Motors.\n"
   ]
  },
  {
   "attachments": {},
   "cell_type": "markdown",
   "metadata": {},
   "source": [
    "## DC motor model\n",
    "\n",
    "The follow [DC motor model](https://ctms.engin.umich.edu/CTMS/index.php?example=MotorSpeed&section=SystemModeling) will be used and the approach described in [University of Utah MEC lab excercise](https://my.mech.utah.edu/~me3200/labs/S04Labs/S04_MotorChar_L04.pdf) will be used for estimating system parameters. Data will be used from [Measured data](https://www.philohome.com/motors/motorcomp.htm) and [Lego](https://le-www-live-s.legocdn.com/sc/media/files/support/spike-prime/techspecs_technicmediumangularmotor-19684ffc443792280359ef217512a1d1.pdf).\n"
   ]
  },
  {
   "attachments": {},
   "cell_type": "markdown",
   "metadata": {},
   "source": [
    "#### Internal resistance and back EMF constant\n",
    "\n",
    "During steady state, the electrical equation of a DC motor simplifies to:\n",
    "\n",
    "\\begin{equation}\n",
    "V = I R + K_e \\omega \n",
    "\\end{equation}\n",
    "\n",
    "Combining this with [Loaded characteristics; measured data](https://www.philohome.com/motors/motorcomp.htm) it is possible to use linear regression for estimating $R$ and $K_e$.\n",
    "\n"
   ]
  },
  {
   "cell_type": "code",
   "execution_count": 1,
   "metadata": {},
   "outputs": [
    {
     "name": "stdout",
     "output_type": "stream",
     "text": [
      "                                 OLS Regression Results                                \n",
      "=======================================================================================\n",
      "Dep. Variable:                      y   R-squared (uncentered):                   1.000\n",
      "Model:                            OLS   Adj. R-squared (uncentered):              1.000\n",
      "Method:                 Least Squares   F-statistic:                          2.152e+04\n",
      "Date:                Sun, 12 Feb 2023   Prob (F-statistic):                    8.64e-09\n",
      "Time:                        10:44:26   Log-Likelihood:                          6.3995\n",
      "No. Observations:                   6   AIC:                                     -8.799\n",
      "Df Residuals:                       4   BIC:                                     -9.215\n",
      "Df Model:                           2                                                  \n",
      "Covariance Type:            nonrobust                                                  \n",
      "==============================================================================\n",
      "                 coef    std err          t      P>|t|      [0.025      0.975]\n",
      "------------------------------------------------------------------------------\n",
      "x1            12.6609      0.318     39.803      0.000      11.778      13.544\n",
      "x2             0.3544      0.007     53.470      0.000       0.336       0.373\n",
      "==============================================================================\n",
      "Omnibus:                          nan   Durbin-Watson:                   3.485\n",
      "Prob(Omnibus):                    nan   Jarque-Bera (JB):                0.692\n",
      "Skew:                           0.108   Prob(JB):                        0.708\n",
      "Kurtosis:                       1.351   Cond. No.                         110.\n",
      "==============================================================================\n",
      "\n",
      "Notes:\n",
      "[1] R² is computed without centering (uncentered) since the model does not contain a constant.\n",
      "[2] Standard Errors assume that the covariance matrix of the errors is correctly specified.\n"
     ]
    },
    {
     "name": "stderr",
     "output_type": "stream",
     "text": [
      "c:\\repos\\51515-System-Identification\\51515-System-Identification\\.venv\\lib\\site-packages\\statsmodels\\stats\\stattools.py:74: ValueWarning: omni_normtest is not valid with less than 8 observations; 6 samples were given.\n",
      "  warn(\"omni_normtest is not valid with less than 8 observations; %i \"\n"
     ]
    }
   ],
   "source": [
    "import numpy as np\n",
    "import statsmodels.api as sm\n",
    "from tests_helper_functions import *\n",
    "\n",
    "omega = rpm_to_rad_per_s(rpm=np.array([24.0, 63.0, 105.0, 138.0, 180.0, 213.0])).reshape((6,1))\n",
    "I = np.array([0.29, 0.28, 0.29, 0.30, 0.31, 0.32]).reshape((6,1))\n",
    "V = np.array([4.5, 6.0, 7.5, 9.0, 10.5, 12.0])\n",
    "\n",
    "X = np.hstack((I, omega))\n",
    "y = V\n",
    "\n",
    "results = sm.OLS(y, X).fit()\n",
    "print(results.summary())"
   ]
  },
  {
   "cell_type": "markdown",
   "metadata": {},
   "source": []
  },
  {
   "cell_type": "markdown",
   "metadata": {},
   "source": []
  }
 ],
 "metadata": {
  "kernelspec": {
   "display_name": ".venv",
   "language": "python",
   "name": "python3"
  },
  "language_info": {
   "codemirror_mode": {
    "name": "ipython",
    "version": 3
   },
   "file_extension": ".py",
   "mimetype": "text/x-python",
   "name": "python",
   "nbconvert_exporter": "python",
   "pygments_lexer": "ipython3",
   "version": "3.10.9"
  },
  "orig_nbformat": 4,
  "vscode": {
   "interpreter": {
    "hash": "5907efaa7e15db4666ede5e514e7cf31ca2226d47398f041cf064c08ab2231b8"
   }
  }
 },
 "nbformat": 4,
 "nbformat_minor": 2
}
